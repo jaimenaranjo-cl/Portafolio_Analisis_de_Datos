{
 "cells": [
  {
   "cell_type": "markdown",
   "id": "56a83323",
   "metadata": {},
   "source": [
    "# Proyecto A · Urgencias Respiratorias — **Colab Ready** ✅"
   ]
  },
  {
   "cell_type": "markdown",
   "id": "66faeefc",
   "metadata": {},
   "source": [
    "### Cómo usar (rápido)\n",
    "1) Sube `at_urg_respiratorio_semanal.parquet` (o CSV) a `data/raw/` (+ diccionario opcional).  \n",
    "2) Ejecuta todo.  \n",
    "3) Salidas en `data/processed/` y figuras en `figures/`.  \n",
    "4) En Power BI usa `urgencias_long_tidy.csv` + `calendar_semanal.csv` (join por `anio`+`semana`)."
   ]
  },
  {
   "cell_type": "markdown",
   "id": "21dc21d0",
   "metadata": {},
   "source": [
    "## 0) Setup"
   ]
  },
  {
   "cell_type": "code",
   "execution_count": null,
   "id": "45271b15",
   "metadata": {},
   "outputs": [],
   "source": [
    "try:\n",
    "    import google.colab  # type: ignore\n",
    "    IS_COLAB = True\n",
    "except Exception:\n",
    "    IS_COLAB = False\n",
    "from pathlib import Path\n",
    "BASE = Path(\"/content/Portafolio-AB\") if IS_COLAB else Path(\"/mnt/data/Portafolio-AB\")\n",
    "RAW, PROC, FIG = BASE/\"data/raw\", BASE/\"data/processed\", BASE/\"figures\"\n",
    "for d in [RAW, PROC, FIG]: d.mkdir(parents=True, exist_ok=True)"
   ]
  },
  {
   "cell_type": "markdown",
   "id": "09ab6566",
   "metadata": {},
   "source": [
    "## 1) Carga + limpieza"
   ]
  },
  {
   "cell_type": "code",
   "execution_count": null,
   "id": "e422a6f4",
   "metadata": {},
   "outputs": [],
   "source": [
    "import pandas as pd, numpy as np\n",
    "PARQUET = RAW / \"at_urg_respiratorio_semanal.parquet\"\n",
    "CSV = RAW / \"at_urg_respiratorio_semanal.csv\"\n",
    "DICT = RAW / \"diccionario-de-datos-urgenciasrespiratoriasporsemana.xlsx\"\n",
    "\n",
    "df=None\n",
    "if PARQUET.exists():\n",
    "    try: df=pd.read_parquet(PARQUET); print(\"Leído Parquet\")\n",
    "    except Exception as e: print(\"Error Parquet:\", e)\n",
    "if df is None and CSV.exists():\n",
    "    try: df=pd.read_csv(CSV); print(\"Leído CSV\")\n",
    "    except Exception as e: print(\"Error CSV:\", e)\n",
    "if df is None: raise RuntimeError(\"No se encontró input en data/raw/.\")\n",
    "\n",
    "# Estandarizar columnas\n",
    "df = df.copy()\n",
    "df.columns = [str(c).strip().lower().replace(\" \",\"_\").replace(\"-\",\"_\").replace(\".\",\"_\") for c in df.columns]\n",
    "df.to_csv(PROC / \"urgencias_wide_clean.csv\", index=False)\n",
    "\n",
    "# Derivar anio/semana desde fecha si existe\n",
    "date_col = next((c for c in df.columns if any(k in c for k in [\"fecha\",\"date\"])), None)\n",
    "if date_col:\n",
    "    df[date_col] = pd.to_datetime(df[date_col], errors=\"coerce\")\n",
    "    if pd.api.types.is_datetime64_any_dtype(df[date_col]):\n",
    "        df[\"anio\"] = df[date_col].dt.isocalendar().year.astype(\"Int64\")\n",
    "        df[\"semana\"] = df[date_col].dt.isocalendar().week.astype(\"Int64\")"
   ]
  },
  {
   "cell_type": "markdown",
   "id": "2b38a75c",
   "metadata": {},
   "source": [
    "## 2) Tidy + calendario"
   ]
  },
  {
   "cell_type": "code",
   "execution_count": null,
   "id": "a00e05b6",
   "metadata": {},
   "outputs": [],
   "source": [
    "import pandas as pd, numpy as np\n",
    "num_cols = df.select_dtypes(include=[np.number]).columns.tolist()\n",
    "id_vars = [c for c in df.columns if c not in num_cols]\n",
    "for c in [\"anio\",\"semana\"]:\n",
    "    if c in df.columns and c not in id_vars:\n",
    "        id_vars.append(c); \n",
    "        if c in num_cols: num_cols.remove(c)\n",
    "\n",
    "tidy = df.melt(id_vars=id_vars, value_vars=num_cols, var_name=\"variable\", value_name=\"valor\")\n",
    "tidy[\"valor\"] = pd.to_numeric(tidy[\"valor\"], errors=\"coerce\").fillna(0.0)\n",
    "tidy.to_csv(PROC / \"urgencias_long_tidy.csv\", index=False)\n",
    "\n",
    "from datetime import date\n",
    "def iso_week_start(y,w,d=1):\n",
    "    try: return date.fromisocalendar(int(y), int(w), int(d)).isoformat()\n",
    "    except: return None\n",
    "if \"anio\" in tidy.columns and \"semana\" in tidy.columns:\n",
    "    cal = tidy[[\"anio\",\"semana\"]].drop_duplicates().assign(fecha_inicio_semana=lambda x: [iso_week_start(a,s) for a,s in zip(x[\"anio\"],x[\"semana\"])])\n",
    "    cal.to_csv(PROC / \"calendar_semanal.csv\", index=False)"
   ]
  },
  {
   "cell_type": "markdown",
   "id": "4ebc315b",
   "metadata": {},
   "source": [
    "## 3) Figuras rápidas"
   ]
  },
  {
   "cell_type": "code",
   "execution_count": null,
   "id": "6b7bda2a",
   "metadata": {},
   "outputs": [],
   "source": [
    "import matplotlib.pyplot as plt, pandas as pd\n",
    "# Tendencia total\n",
    "if {\"anio\",\"semana\"}.issubset(tidy.columns):\n",
    "    ts = tidy.groupby([\"anio\",\"semana\"])[\"valor\"].sum().reset_index().sort_values([\"anio\",\"semana\"])\n",
    "    plt.figure(figsize=(9,4)); plt.plot(range(len(ts)), ts[\"valor\"]); plt.title(\"Tendencia semanal total\"); plt.tight_layout()\n",
    "    out = FIG/\"A_tendencia_semanal_total.png\"; plt.savefig(out, dpi=150); print(\"Guardado:\", out)"
   ]
  },
  {
   "cell_type": "markdown",
   "id": "00fa9cea",
   "metadata": {},
   "source": [
    "### Figuras adicionales: Top variables y Heatmap"
   ]
  },
  {
   "cell_type": "code",
   "execution_count": null,
   "id": "4f7e7de7",
   "metadata": {},
   "outputs": [],
   "source": [
    "\n",
    "# Top variables por total acumulado (barras horizontales)\n",
    "import pandas as pd, matplotlib.pyplot as plt\n",
    "if \"variable\" in tidy.columns and \"valor\" in tidy.columns:\n",
    "    top = (tidy.groupby(\"variable\")[\"valor\"].sum()\n",
    "           .sort_values(ascending=False).head(10)).reset_index()\n",
    "    plt.figure(figsize=(9,5))\n",
    "    plt.barh(top[\"variable\"], top[\"valor\"])\n",
    "    plt.gca().invert_yaxis()\n",
    "    plt.title(\"Top 10 variables por total acumulado\")\n",
    "    plt.tight_layout()\n",
    "    out = FIG / \"B_top_variables_total.png\"\n",
    "    plt.savefig(out, dpi=150)\n",
    "    plt.close()\n",
    "    print(\"Guardado:\", out)\n"
   ]
  },
  {
   "cell_type": "code",
   "execution_count": null,
   "id": "45b73e4c",
   "metadata": {},
   "outputs": [],
   "source": [
    "\n",
    "# Heatmap variables × semana (si existen anio y semana)\n",
    "import pandas as pd, numpy as np, matplotlib.pyplot as plt\n",
    "if {\"anio\",\"semana\",\"variable\",\"valor\"}.issubset(tidy.columns):\n",
    "    mat = tidy.pivot_table(index=\"variable\", columns=[\"anio\",\"semana\"], values=\"valor\", aggfunc=\"sum\", fill_value=0)\n",
    "    arr = mat.values\n",
    "    plt.figure(figsize=(12, max(4, arr.shape[0]*0.2)))\n",
    "    plt.imshow(arr, aspect=\"auto\")\n",
    "    plt.colorbar()\n",
    "    plt.title(\"Heatmap variables × semanas (totales)\")\n",
    "    plt.yticks(range(len(mat.index)), mat.index)\n",
    "    plt.xticks([])\n",
    "    plt.tight_layout()\n",
    "    out = FIG / \"C_heatmap_variables_semanas.png\"\n",
    "    plt.savefig(out, dpi=150)\n",
    "    plt.close()\n",
    "    print(\"Guardado:\", out)\n"
   ]
  },
  {
   "cell_type": "markdown",
   "id": "d6879e02",
   "metadata": {},
   "source": [
    "## 4) Export BI"
   ]
  },
  {
   "cell_type": "code",
   "execution_count": null,
   "id": "55a6a502",
   "metadata": {},
   "outputs": [],
   "source": [
    "print(\"Hechos:\", PROC/\"urgencias_long_tidy.csv\")\n",
    "print(\"Calendario:\", PROC/\"calendar_semanal.csv\")\n",
    "print(\"Wide:\", PROC/\"urgencias_wide_clean.csv\")"
   ]
  }
 ],
 "metadata": {
  "kernelspec": {
   "display_name": "Python 3",
   "name": "python3"
  }
 },
 "nbformat": 4,
 "nbformat_minor": 5
}
