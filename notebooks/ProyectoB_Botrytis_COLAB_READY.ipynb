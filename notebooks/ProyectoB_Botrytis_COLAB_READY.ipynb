{
 "cells": [
  {
   "cell_type": "markdown",
   "id": "457d4b56",
   "metadata": {},
   "source": [
    "# Proyecto B · Botrytis (Tomate/Uvas) — **Colab Ready** ✅"
   ]
  },
  {
   "cell_type": "markdown",
   "id": "d633b349",
   "metadata": {},
   "source": [
    "### Cómo usar (rápido)\n",
    "1) Sube a `data/raw/` los 4 archivos:  \n",
    "   - `GSE57586_Botrytis_tomato_raw_reads.txt.gz` + `GSE57586_family.soft.gz`  \n",
    "   - `GSE57587_Botrytis_grapes_raw_reads.txt.gz` + `GSE57587_family.soft.gz`  \n",
    "2) Ejecuta todo.  \n",
    "3) Salidas en `data/processed/` y figuras en `figures/`.  \n",
    "4) En Power BI usa `expression_long_log2CPM.csv` + `DEG_all.csv`. "
   ]
  },
  {
   "cell_type": "markdown",
   "id": "26754b53",
   "metadata": {},
   "source": [
    "## 0) Setup y utilidades"
   ]
  },
  {
   "cell_type": "code",
   "execution_count": null,
   "id": "37f36823",
   "metadata": {},
   "outputs": [],
   "source": [
    "try:\n",
    "    import google.colab  # type: ignore\n",
    "    IS_COLAB = True\n",
    "except Exception:\n",
    "    IS_COLAB = False\n",
    "from pathlib import Path\n",
    "BASE = Path(\"/content/Portafolio-AB\") if IS_COLAB else Path(\"/mnt/data/Portafolio-AB\")\n",
    "RAW, PROC, FIG = BASE/\"data/raw\", BASE/\"data/processed\", BASE/\"figures\"\n",
    "for d in [RAW, PROC, FIG]: d.mkdir(parents=True, exist_ok=True)\n",
    "\n",
    "import pandas as pd, numpy as np, gzip\n",
    "from scipy import stats\n",
    "import matplotlib.pyplot as plt\n",
    "\n",
    "def read_gz_table(path: Path, seps=(\"\\t\", \",\", \";\")) -> pd.DataFrame:\n",
    "    open_fn = gzip.open if str(path).endswith(\".gz\") else open\n",
    "    for s in seps:\n",
    "        try:\n",
    "            with open_fn(path, \"rt\", encoding=\"utf-8\", errors=\"replace\") as fh:\n",
    "                df = pd.read_csv(fh, sep=s, engine=\"python\")\n",
    "                if df.shape[1] >= 2: return df\n",
    "        except: pass\n",
    "    with open_fn(path, \"rt\", encoding=\"utf-8\", errors=\"replace\") as fh:\n",
    "        return pd.read_csv(fh, engine=\"python\")\n",
    "\n",
    "def basic_clean(df: pd.DataFrame) -> pd.DataFrame:\n",
    "    df = df.dropna(axis=0, how=\"all\").dropna(axis=1, how=\"all\")\n",
    "    if df.columns[0].lower() not in [\"gene\",\"gene_id\",\"id\"]:\n",
    "        df = df.rename(columns={df.columns[0]: \"gene\"})\n",
    "    df = df.set_index(\"gene\", drop=True)\n",
    "    df = df.apply(pd.to_numeric, errors=\"coerce\").fillna(0.0)\n",
    "    df = df.loc[df.sum(axis=1) > 0]\n",
    "    return df\n",
    "\n",
    "def counts_per_million(df: pd.DataFrame) -> pd.DataFrame:\n",
    "    lib_sizes = df.sum(axis=0).replace(0, np.nan)\n",
    "    return (df / lib_sizes * 1e6).fillna(0.0)\n",
    "\n",
    "def bh_fdr(pvals):\n",
    "    p = np.array(pvals, dtype=float); n = len(p)\n",
    "    order = np.argsort(p); ranked = p[order]\n",
    "    q = ranked * n / (np.arange(n)+1)\n",
    "    q = np.minimum.accumulate(q[::-1])[::-1]\n",
    "    out = np.empty_like(q); out[order] = q\n",
    "    return np.clip(out, 0, 1)\n",
    "\n",
    "def volcano(df, title, outpath, fdr_thresh=0.05, lfc_thresh=1.0):\n",
    "    plt.figure(figsize=(7,5))\n",
    "    x = df[\"log2FC\"].values; y = -np.log10(df[\"pval\"].replace(0, np.nextafter(0,1)).values)\n",
    "    plt.scatter(x, y, s=8, alpha=0.6)\n",
    "    plt.axhline(-np.log10(fdr_thresh), linestyle=\"--\")\n",
    "    plt.axvline(lfc_thresh, linestyle=\"--\"); plt.axvline(-lfc_thresh, linestyle=\"--\")\n",
    "    plt.title(title); plt.xlabel(\"log2FC\"); plt.ylabel(\"-log10(pval)\"); plt.tight_layout()\n",
    "    plt.savefig(outpath, dpi=150); plt.close()\n",
    "    print(\"Guardado:\", outpath)\n",
    "\n",
    "def heatmap_topN(mat_log, topN, title, outpath):\n",
    "    var = mat_log.var(axis=1).sort_values(ascending=False)\n",
    "    keep = var.head(min(topN, len(var))).index\n",
    "    sub = mat_log.loc[keep]\n",
    "    arr = ((sub.T - sub.mean(axis=1)) / (sub.std(axis=1).replace(0, np.nan))).T.fillna(0.0).values\n",
    "    plt.figure(figsize=(8, max(4, topN*0.15)))\n",
    "    plt.imshow(arr, aspect=\"auto\"); plt.colorbar(); plt.title(title); plt.tight_layout()\n",
    "    plt.savefig(outpath, dpi=150); plt.close()\n",
    "    print(\"Guardado:\", outpath)"
   ]
  },
  {
   "cell_type": "markdown",
   "id": "d6334a50",
   "metadata": {},
   "source": [
    "## 1) Cargar, limpiar y normalizar"
   ]
  },
  {
   "cell_type": "code",
   "execution_count": null,
   "id": "76b8aca7",
   "metadata": {},
   "outputs": [],
   "source": [
    "tom_raw = read_gz_table(RAW / \"GSE57586_Botrytis_tomato_raw_reads.txt.gz\")\n",
    "grp_raw = read_gz_table(RAW / \"GSE57587_Botrytis_grapes_raw_reads.txt.gz\")\n",
    "\n",
    "tom = basic_clean(tom_raw); grp = basic_clean(grp_raw)\n",
    "tom_cpm, grp_cpm = counts_per_million(tom), counts_per_million(grp)\n",
    "tom_log, grp_log = np.log2(tom_cpm + 1), np.log2(grp_cpm + 1)\n",
    "\n",
    "tom.to_csv(PROC / \"GSE57586_tomate_clean.csv\"); grp.to_csv(PROC / \"GSE57587_uvas_clean.csv\")\n",
    "tom_log.to_csv(PROC / \"GSE57586_tomate_log2CPM.csv\"); grp_log.to_csv(PROC / \"GSE57587_uvas_log2CPM.csv\")"
   ]
  },
  {
   "cell_type": "markdown",
   "id": "fd026390",
   "metadata": {},
   "source": [
    "## 2) Definir grupos y DEG"
   ]
  },
  {
   "cell_type": "code",
   "execution_count": null,
   "id": "832b0257",
   "metadata": {},
   "outputs": [],
   "source": [
    "TOM_CTRL  = [\"BB16_tomato_bot\"]\n",
    "TOM_TREAT = [\"BB17_tomato_bot\", \"BB18_tomato_bot\"]\n",
    "GRP_CTRL  = [\"Dolce-rnaseq-2-1\", \"Dolce-rnaseq-2-2\"]\n",
    "GRP_TREAT = [\"Dolce-rnaseq-2-3\", \"Dolce-rnaseq-2-5\"]\n",
    "\n",
    "def pick(all_cols, wanted):\n",
    "    hits = []\n",
    "    for w in wanted:\n",
    "        for c in all_cols:\n",
    "            if w==c or w in c: hits.append(c)\n",
    "    out=[]; \n",
    "    for c in all_cols:\n",
    "        if c in hits and c not in out: out.append(c)\n",
    "    return out\n",
    "\n",
    "tom_ctrl = pick(tom_log.columns.tolist(), TOM_CTRL); tom_trt = pick(tom_log.columns.tolist(), TOM_TREAT)\n",
    "grp_ctrl = pick(grp_log.columns.tolist(), GRP_CTRL); grp_trt = pick(grp_log.columns.tolist(), GRP_TREAT)\n",
    "\n",
    "from scipy import stats\n",
    "def deg_ttest(log_df, ctrl, trt):\n",
    "    rows = []\n",
    "    for g, row in log_df.iterrows():\n",
    "        x, y = row[ctrl].astype(float).values, row[trt].astype(float).values\n",
    "        if len(x) >= 1 and len(y) >= 1:\n",
    "            t, p = stats.ttest_ind(x, y, equal_var=False, nan_policy=\"omit\")\n",
    "        else:\n",
    "            t, p = (np.nan, 1.0)\n",
    "        rows.append((g, (row[trt].mean()-row[ctrl].mean()), p))\n",
    "    out = pd.DataFrame(rows, columns=[\"gene\",\"log2FC\",\"pval\"]).dropna()\n",
    "    out[\"FDR\"] = bh_fdr(out[\"pval\"].values)\n",
    "    return out.sort_values(\"pval\")\n",
    "\n",
    "deg_tom = deg_ttest(tom_log, tom_ctrl, tom_trt)\n",
    "deg_uva = deg_ttest(grp_log, grp_ctrl, grp_trt)\n",
    "deg_tom.to_csv(PROC / \"DEG_tomate.csv\", index=False)\n",
    "deg_uva.to_csv(PROC / \"DEG_uvas.csv\", index=False)\n",
    "deg_all = pd.concat([deg_tom.assign(dataset='Tomate'), deg_uva.assign(dataset='Uvas')], ignore_index=True)\n",
    "deg_all.to_csv(PROC / \"DEG_all.csv\", index=False)"
   ]
  },
  {
   "cell_type": "markdown",
   "id": "cb8bed68",
   "metadata": {},
   "source": [
    "## 3) Figuras (ambos datasets)"
   ]
  },
  {
   "cell_type": "code",
   "execution_count": null,
   "id": "e04cea14",
   "metadata": {},
   "outputs": [],
   "source": [
    "volcano(deg_tom, \"Volcano Tomate\", FIG/\"Volcano_Tomate.png\")\n",
    "volcano(deg_uva, \"Volcano Uvas\",   FIG/\"Volcano_Uvas.png\")\n",
    "heatmap_topN(tom_log, 50, \"Heatmap top-50 Tomate (z-score por gen)\", FIG/\"Heatmap_top50_Tomate.png\")\n",
    "heatmap_topN(grp_log, 50, \"Heatmap top-50 Uvas (z-score por gen)\",   FIG/\"Heatmap_top50_Uvas.png\")"
   ]
  },
  {
   "cell_type": "markdown",
   "id": "2794bb4b",
   "metadata": {},
   "source": [
    "## 4) Export BI (long)"
   ]
  },
  {
   "cell_type": "code",
   "execution_count": null,
   "id": "89758f35",
   "metadata": {},
   "outputs": [],
   "source": [
    "expr_long = pd.concat([\n",
    "    tom_log.reset_index().melt(id_vars=\"gene\", var_name=\"sample\", value_name=\"expression\").assign(dataset=\"Tomate\"),\n",
    "    grp_log.reset_index().melt(id_vars=\"gene\", var_name=\"sample\", value_name=\"expression\").assign(dataset=\"Uvas\")\n",
    "], ignore_index=True)\n",
    "expr_long.to_csv(PROC / \"expression_long_log2CPM.csv\", index=False)\n",
    "print(\"Listo para BI:\", PROC / \"expression_long_log2CPM.csv\")"
   ]
  }
 ],
 "metadata": {
  "kernelspec": {
   "display_name": "Python 3",
   "name": "python3"
  }
 },
 "nbformat": 4,
 "nbformat_minor": 5
}
